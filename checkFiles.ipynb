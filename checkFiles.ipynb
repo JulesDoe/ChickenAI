{
 "cells": [
  {
   "cell_type": "code",
   "execution_count": null,
   "source": [],
   "outputs": [],
   "metadata": {}
  },
  {
   "cell_type": "code",
   "execution_count": null,
   "source": [
    "import tensorflow as tf\r\n",
    "from tensorflow import keras\r\n",
    "import shutil\r\n",
    "import pathlib\r\n",
    "import os"
   ],
   "outputs": [],
   "metadata": {}
  },
  {
   "cell_type": "code",
   "execution_count": null,
   "source": [
    "data_dir = \"D:/chickenAI\"\r\n",
    "dst_dir = \"D:/chickenAI/badFiles/\"\r\n",
    "\r\n",
    "data_dir = pathlib.Path(data_dir)\r\n",
    "\r\n",
    "# images =data_dir.glob('*/*.jpg')\r\n",
    "images =data_dir.glob('*.jpg')\r\n",
    "images = list(images)\r\n",
    "\r\n",
    "for i, image in enumerate(images):\r\n",
    "    head, tail = os.path.split(image)\r\n",
    "\r\n",
    "    \r\n",
    "\r\n",
    "    # print(head,tail)\r\n",
    "    try:\r\n",
    "        with tf.io.gfile.GFile(image, 'rb') as fid:\r\n",
    "            image_data = fid.read()\r\n",
    "        tf.image.decode_jpeg\r\n",
    "\r\n",
    "        image_tensor = tf.image.decode_jpeg(\r\n",
    "                        image_data,\r\n",
    "                        channels=3,\r\n",
    "                        name=None\r\n",
    "                    )\r\n",
    "        \r\n",
    "        keras.preprocessing.image.load_img(image)\r\n",
    "        # print(\"passed: \", i, image_tensor)\r\n",
    "        # print(\"passed: \", i)\r\n",
    "\r\n",
    "    except:\r\n",
    "        print(\"Failed: \", i, image)\r\n",
    "        shutil.move(image.absolute(), dst_dir+tail)\r\n",
    "        pass\r\n"
   ],
   "outputs": [],
   "metadata": {}
  }
 ],
 "metadata": {
  "orig_nbformat": 4,
  "language_info": {
   "name": "python",
   "version": "3.9.5",
   "mimetype": "text/x-python",
   "codemirror_mode": {
    "name": "ipython",
    "version": 3
   },
   "pygments_lexer": "ipython3",
   "nbconvert_exporter": "python",
   "file_extension": ".py"
  },
  "kernelspec": {
   "name": "python3",
   "display_name": "Python 3.9.5 64-bit ('chicken5': conda)"
  },
  "interpreter": {
   "hash": "a906bae7af797a88692bb51d1c7aead8af714cdfcd942ba121a6dc0dc46a8739"
  }
 },
 "nbformat": 4,
 "nbformat_minor": 2
}