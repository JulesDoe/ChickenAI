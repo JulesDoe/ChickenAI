{
 "cells": [
  {
   "cell_type": "markdown",
   "source": [
    "##### Copyright 2018 The TensorFlow Authors."
   ],
   "metadata": {
    "id": "TBFXQGKYUc4X"
   }
  },
  {
   "cell_type": "code",
   "execution_count": null,
   "source": [
    "#@title Licensed under the Apache License, Version 2.0 (the \"License\");\r\n",
    "# you may not use this file except in compliance with the License.\r\n",
    "# You may obtain a copy of the License at\r\n",
    "#\r\n",
    "# https://www.apache.org/licenses/LICENSE-2.0\r\n",
    "#\r\n",
    "# Unless required by applicable law or agreed to in writing, software\r\n",
    "# distributed under the License is distributed on an \"AS IS\" BASIS,\r\n",
    "# WITHOUT WARRANTIES OR CONDITIONS OF ANY KIND, either express or implied.\r\n",
    "# See the License for the specific language governing permissions and\r\n",
    "# limitations under the License."
   ],
   "outputs": [],
   "metadata": {
    "cellView": "form",
    "execution": {
     "iopub.execute_input": "2021-06-16T19:32:02.057236Z",
     "iopub.status.busy": "2021-06-16T19:32:02.056634Z",
     "iopub.status.idle": "2021-06-16T19:32:02.058559Z",
     "shell.execute_reply": "2021-06-16T19:32:02.058921Z"
    },
    "id": "1z4xy2gTUc4a"
   }
  },
  {
   "cell_type": "markdown",
   "source": [
    "# Image classification"
   ],
   "metadata": {
    "id": "FE7KNzPPVrVV"
   }
  },
  {
   "cell_type": "markdown",
   "source": [
    "<table class=\"tfo-notebook-buttons\" align=\"left\">\n",
    "  <td>\n",
    "    <a target=\"_blank\" href=\"https://www.tensorflow.org/tutorials/images/classification\"><img src=\"https://www.tensorflow.org/images/tf_logo_32px.png\" />View on TensorFlow.org</a>\n",
    "  </td>\n",
    "  <td>\n",
    "    <a target=\"_blank\" href=\"https://colab.research.google.com/github/tensorflow/docs/blob/master/site/en/tutorials/images/classification.ipynb\"><img src=\"https://www.tensorflow.org/images/colab_logo_32px.png\" />Run in Google Colab</a>\n",
    "  </td>\n",
    "  <td>\n",
    "    <a target=\"_blank\" href=\"https://github.com/tensorflow/docs/blob/master/site/en/tutorials/images/classification.ipynb\"><img src=\"https://www.tensorflow.org/images/GitHub-Mark-32px.png\" />View source on GitHub</a>\n",
    "  </td>\n",
    "  <td>\n",
    "    <a href=\"https://storage.googleapis.com/tensorflow_docs/docs/site/en/tutorials/images/classification.ipynb\"><img src=\"https://www.tensorflow.org/images/download_logo_32px.png\" />Download notebook</a>\n",
    "  </td>\n",
    "</table>"
   ],
   "metadata": {
    "id": "KwQtSOz0VrVX"
   }
  },
  {
   "cell_type": "markdown",
   "source": [
    "This tutorial shows how to classify images of flowers. It creates an image classifier using a `keras.Sequential` model, and loads data using `preprocessing.image_dataset_from_directory`. You will gain practical experience with the following concepts:\r\n",
    "\r\n",
    "* Efficiently loading a dataset off disk.\r\n",
    "* Identifying overfitting and applying techniques to mitigate it, including data augmentation and Dropout.\r\n",
    "\r\n",
    "This tutorial follows a basic machine learning workflow:\r\n",
    "\r\n",
    "1. Examine and understand data\r\n",
    "2. Build an input pipeline\r\n",
    "3. Build the model\r\n",
    "4. Train the model\r\n",
    "5. Test the model\r\n",
    "6. Improve the model and repeat the process"
   ],
   "metadata": {
    "id": "gN7G9GFmVrVY"
   }
  },
  {
   "cell_type": "markdown",
   "source": [
    "## Import TensorFlow and other libraries"
   ],
   "metadata": {
    "id": "zF9uvbXNVrVY"
   }
  },
  {
   "cell_type": "code",
   "execution_count": null,
   "source": [
    "import matplotlib.pyplot as plt\r\n",
    "import numpy as np\r\n",
    "import os\r\n",
    "import PIL\r\n",
    "import tensorflow as tf\r\n",
    "\r\n",
    "from tensorflow import keras\r\n",
    "from tensorflow.keras import layers\r\n",
    "from tensorflow.keras.models import Sequential\r\n",
    "\r\n",
    "print(tf.__version__)\r\n",
    "print(\"Num GPUs Available: \", len(tf.config.list_physical_devices('GPU')))\r\n"
   ],
   "outputs": [],
   "metadata": {
    "execution": {
     "iopub.execute_input": "2021-06-16T19:32:02.065911Z",
     "iopub.status.busy": "2021-06-16T19:32:02.065333Z",
     "iopub.status.idle": "2021-06-16T19:32:03.668090Z",
     "shell.execute_reply": "2021-06-16T19:32:03.667451Z"
    },
    "id": "L1WtoaOHVrVh"
   }
  },
  {
   "cell_type": "markdown",
   "source": [
    "## Download and explore the dataset"
   ],
   "metadata": {
    "id": "UZZI6lNkVrVm"
   }
  },
  {
   "cell_type": "markdown",
   "source": [
    "This tutorial uses a dataset of about 3,700 photos of flowers. The dataset contains 5 sub-directories, one per class:\n",
    "\n",
    "```\n",
    "flower_photo/\n",
    "  daisy/\n",
    "  dandelion/\n",
    "  roses/\n",
    "  sunflowers/\n",
    "  tulips/\n",
    "```"
   ],
   "metadata": {
    "id": "DPHx8-t-VrVo"
   }
  },
  {
   "cell_type": "code",
   "execution_count": null,
   "source": [
    "import pathlib\r\n",
    "# dataset_url = \"https://storage.googleapis.com/download.tensorflow.org/example_images/flower_photos.tgz\"\r\n",
    "# data_dir = tf.keras.utils.get_file('flower_photos', origin=dataset_url, untar=True)\r\n",
    "data_dir = \"D:/chickenAI/dataset3\"\r\n",
    "data_dir = pathlib.Path(data_dir)\r\n",
    "\r\n",
    "for item in data_dir.glob(\"*\"):\r\n",
    "    print(item.name)"
   ],
   "outputs": [],
   "metadata": {
    "execution": {
     "iopub.execute_input": "2021-06-16T19:32:03.672941Z",
     "iopub.status.busy": "2021-06-16T19:32:03.672342Z",
     "iopub.status.idle": "2021-06-16T19:32:03.674468Z",
     "shell.execute_reply": "2021-06-16T19:32:03.674034Z"
    },
    "id": "57CcilYSG0zv"
   }
  },
  {
   "cell_type": "markdown",
   "source": [
    "After downloading, you should now have a copy of the dataset available. There are 3,670 total images:"
   ],
   "metadata": {
    "id": "VpmywIlsVrVx"
   }
  },
  {
   "cell_type": "code",
   "execution_count": null,
   "source": [
    "image_count = len(list(data_dir.glob('*/*.jpg')))\r\n",
    "print(image_count)"
   ],
   "outputs": [],
   "metadata": {
    "execution": {
     "iopub.execute_input": "2021-06-16T19:32:03.678472Z",
     "iopub.status.busy": "2021-06-16T19:32:03.677876Z",
     "iopub.status.idle": "2021-06-16T19:32:03.692231Z",
     "shell.execute_reply": "2021-06-16T19:32:03.692656Z"
    },
    "id": "SbtTDYhOHZb6"
   }
  },
  {
   "cell_type": "markdown",
   "source": [
    "Here are some roses:"
   ],
   "metadata": {
    "id": "PVmwkOSdHZ5A"
   }
  },
  {
   "cell_type": "code",
   "execution_count": null,
   "source": [
    "roses = list(data_dir.glob('chicken/*'))\r\n",
    "# roses = list(data_dir.glob('roses/*'))\r\n",
    "PIL.Image.open(str(roses[0]))"
   ],
   "outputs": [],
   "metadata": {
    "execution": {
     "iopub.execute_input": "2021-06-16T19:32:03.696434Z",
     "iopub.status.busy": "2021-06-16T19:32:03.695812Z",
     "iopub.status.idle": "2021-06-16T19:32:03.798408Z",
     "shell.execute_reply": "2021-06-16T19:32:03.798772Z"
    },
    "id": "N1loMlbYHeiJ"
   }
  },
  {
   "cell_type": "code",
   "execution_count": null,
   "source": [
    "PIL.Image.open(str(roses[1]))"
   ],
   "outputs": [],
   "metadata": {
    "execution": {
     "iopub.execute_input": "2021-06-16T19:32:03.802766Z",
     "iopub.status.busy": "2021-06-16T19:32:03.802168Z",
     "iopub.status.idle": "2021-06-16T19:32:03.860960Z",
     "shell.execute_reply": "2021-06-16T19:32:03.861348Z"
    },
    "id": "RQbZBOTLHiUP"
   }
  },
  {
   "cell_type": "markdown",
   "source": [
    "And some tulips:"
   ],
   "metadata": {
    "id": "DGEqiBbRHnyI"
   }
  },
  {
   "cell_type": "code",
   "execution_count": null,
   "source": [],
   "outputs": [],
   "metadata": {}
  },
  {
   "cell_type": "code",
   "execution_count": null,
   "source": [
    "tulips = list(data_dir.glob('egg/*'))\r\n",
    "# tulips = list(data_dir.glob('tulips/*'))\r\n",
    "PIL.Image.open(str(tulips[0]))"
   ],
   "outputs": [],
   "metadata": {
    "execution": {
     "iopub.execute_input": "2021-06-16T19:32:03.865077Z",
     "iopub.status.busy": "2021-06-16T19:32:03.864484Z",
     "iopub.status.idle": "2021-06-16T19:32:03.923418Z",
     "shell.execute_reply": "2021-06-16T19:32:03.923838Z"
    },
    "id": "HyQkfPGdHilw"
   }
  },
  {
   "cell_type": "code",
   "execution_count": null,
   "source": [
    "PIL.Image.open(str(tulips[1]))"
   ],
   "outputs": [],
   "metadata": {
    "execution": {
     "iopub.execute_input": "2021-06-16T19:32:03.927602Z",
     "iopub.status.busy": "2021-06-16T19:32:03.926932Z",
     "iopub.status.idle": "2021-06-16T19:32:03.950081Z",
     "shell.execute_reply": "2021-06-16T19:32:03.950515Z"
    },
    "id": "wtlhWJPAHivf"
   }
  },
  {
   "cell_type": "markdown",
   "source": [
    "# Load using keras.preprocessing\n",
    "\n",
    "Let's load these images off disk using the helpful [image_dataset_from_directory](https://www.tensorflow.org/api_docs/python/tf/keras/preprocessing/image_dataset_from_directory) utility. This will take you from a directory of images on disk to a `tf.data.Dataset` in just a couple lines of code. If you like, you can also write your own data loading code from scratch by visiting the [load images](https://www.tensorflow.org/tutorials/load_data/images) tutorial."
   ],
   "metadata": {
    "id": "gIjgz7_JIo_m"
   }
  },
  {
   "cell_type": "markdown",
   "source": [
    "## Create a dataset"
   ],
   "metadata": {
    "id": "xyDNn9MbIzfT"
   }
  },
  {
   "cell_type": "markdown",
   "source": [
    "Define some parameters for the loader:"
   ],
   "metadata": {
    "id": "anqiK_AGI086"
   }
  },
  {
   "cell_type": "code",
   "execution_count": null,
   "source": [
    "batch_size = 32\r\n",
    "# img_height = 180\r\n",
    "# img_width = 180\r\n",
    "img_height = 60\r\n",
    "img_width = 60"
   ],
   "outputs": [],
   "metadata": {
    "execution": {
     "iopub.execute_input": "2021-06-16T19:32:03.954602Z",
     "iopub.status.busy": "2021-06-16T19:32:03.953970Z",
     "iopub.status.idle": "2021-06-16T19:32:03.956172Z",
     "shell.execute_reply": "2021-06-16T19:32:03.955587Z"
    },
    "id": "H74l2DoDI2XD"
   }
  },
  {
   "cell_type": "markdown",
   "source": [
    "It's good practice to use a validation split when developing your model. Let's use 80% of the images for training, and 20% for validation."
   ],
   "metadata": {
    "id": "pFBhRrrEI49z"
   }
  },
  {
   "cell_type": "code",
   "execution_count": null,
   "source": [
    "train_ds = tf.keras.preprocessing.image_dataset_from_directory(\r\n",
    "  data_dir,\r\n",
    "  validation_split=0.2,\r\n",
    "  subset=\"training\",\r\n",
    "  seed=123,\r\n",
    "  image_size=(img_height, img_width),\r\n",
    "  batch_size=batch_size)"
   ],
   "outputs": [],
   "metadata": {
    "execution": {
     "iopub.execute_input": "2021-06-16T19:32:03.960239Z",
     "iopub.status.busy": "2021-06-16T19:32:03.959474Z",
     "iopub.status.idle": "2021-06-16T19:32:05.611564Z",
     "shell.execute_reply": "2021-06-16T19:32:05.611950Z"
    },
    "id": "fIR0kRZiI_AT"
   }
  },
  {
   "cell_type": "code",
   "execution_count": null,
   "source": [
    "val_ds = tf.keras.preprocessing.image_dataset_from_directory(\r\n",
    "  data_dir,\r\n",
    "  validation_split=0.2,\r\n",
    "  subset=\"validation\",\r\n",
    "  seed=123,\r\n",
    "  image_size=(img_height, img_width),\r\n",
    "  batch_size=batch_size)"
   ],
   "outputs": [],
   "metadata": {
    "execution": {
     "iopub.execute_input": "2021-06-16T19:32:05.616033Z",
     "iopub.status.busy": "2021-06-16T19:32:05.615361Z",
     "iopub.status.idle": "2021-06-16T19:32:05.736858Z",
     "shell.execute_reply": "2021-06-16T19:32:05.736400Z"
    },
    "id": "iscU3UoVJBXj"
   }
  },
  {
   "cell_type": "markdown",
   "source": [
    "You can find the class names in the `class_names` attribute on these datasets. These correspond to the directory names in alphabetical order."
   ],
   "metadata": {
    "id": "WLQULyAvJC3X"
   }
  },
  {
   "cell_type": "code",
   "execution_count": null,
   "source": [
    "class_names = train_ds.class_names\r\n",
    "print(class_names)"
   ],
   "outputs": [],
   "metadata": {
    "execution": {
     "iopub.execute_input": "2021-06-16T19:32:05.740561Z",
     "iopub.status.busy": "2021-06-16T19:32:05.740000Z",
     "iopub.status.idle": "2021-06-16T19:32:05.742741Z",
     "shell.execute_reply": "2021-06-16T19:32:05.742325Z"
    },
    "id": "ZHAxkHX5JD3k"
   }
  },
  {
   "cell_type": "markdown",
   "source": [
    "## Visualize the data\n",
    "\n",
    "Here are the first 9 images from the training dataset."
   ],
   "metadata": {
    "id": "_uoVvxSLJW9m"
   }
  },
  {
   "cell_type": "code",
   "execution_count": null,
   "source": [
    "import matplotlib.pyplot as plt\r\n",
    "\r\n",
    "plt.figure(figsize=(10, 10))\r\n",
    "for images, labels in train_ds.take(1):\r\n",
    "  for i in range(9):\r\n",
    "    ax = plt.subplot(3, 3, i + 1)\r\n",
    "    plt.imshow(images[i].numpy().astype(\"uint8\"))\r\n",
    "    plt.title(class_names[labels[i]])\r\n",
    "    plt.axis(\"off\")"
   ],
   "outputs": [],
   "metadata": {
    "execution": {
     "iopub.execute_input": "2021-06-16T19:32:05.748631Z",
     "iopub.status.busy": "2021-06-16T19:32:05.748075Z",
     "iopub.status.idle": "2021-06-16T19:32:06.336300Z",
     "shell.execute_reply": "2021-06-16T19:32:06.336672Z"
    },
    "id": "wBmEA9c0JYes"
   }
  },
  {
   "cell_type": "markdown",
   "source": [
    "You will train a model using these datasets by passing them to `model.fit` in a moment. If you like, you can also manually iterate over the dataset and retrieve batches of images:"
   ],
   "metadata": {
    "id": "5M6BXtXFJdW0"
   }
  },
  {
   "cell_type": "code",
   "execution_count": null,
   "source": [
    "for image_batch, labels_batch in train_ds:\r\n",
    "  print(image_batch.shape)\r\n",
    "  print(labels_batch.shape)\r\n",
    "  break"
   ],
   "outputs": [],
   "metadata": {
    "execution": {
     "iopub.execute_input": "2021-06-16T19:32:06.340887Z",
     "iopub.status.busy": "2021-06-16T19:32:06.340280Z",
     "iopub.status.idle": "2021-06-16T19:32:06.456242Z",
     "shell.execute_reply": "2021-06-16T19:32:06.456583Z"
    },
    "id": "2-MfMoenJi8s"
   }
  },
  {
   "cell_type": "markdown",
   "source": [
    "The `image_batch` is a tensor of the shape `(32, 180, 180, 3)`. This is a batch of 32 images of shape `180x180x3` (the last dimension refers to color channels RGB). The `label_batch` is a tensor of the shape `(32,)`, these are corresponding labels to the 32 images. \n",
    "\n",
    "You can call `.numpy()` on the `image_batch` and `labels_batch` tensors to convert them to a `numpy.ndarray`.\n"
   ],
   "metadata": {
    "id": "Wj4FrKxxJkoW"
   }
  },
  {
   "cell_type": "markdown",
   "source": [
    "## Configure the dataset for performance\n",
    "\n",
    "Let's make sure to use buffered prefetching so you can yield data from disk without having I/O become blocking. These are two important methods you should use when loading data.\n",
    "\n",
    "`Dataset.cache()` keeps the images in memory after they're loaded off disk during the first epoch. This will ensure the dataset does not become a bottleneck while training your model. If your dataset is too large to fit into memory, you can also use this method to create a performant on-disk cache.\n",
    "\n",
    "`Dataset.prefetch()` overlaps data preprocessing and model execution while training. \n",
    "\n",
    "Interested readers can learn more about both methods, as well as how to cache data to disk in the [data performance guide](https://www.tensorflow.org/guide/data_performance#prefetching)."
   ],
   "metadata": {
    "id": "4Dr0at41KcAU"
   }
  },
  {
   "cell_type": "code",
   "execution_count": null,
   "source": [
    "AUTOTUNE = tf.data.AUTOTUNE\r\n",
    "\r\n",
    "train_ds = train_ds.cache().shuffle(1000).prefetch(buffer_size=AUTOTUNE)\r\n",
    "val_ds = val_ds.cache().prefetch(buffer_size=AUTOTUNE)"
   ],
   "outputs": [],
   "metadata": {
    "execution": {
     "iopub.execute_input": "2021-06-16T19:32:06.460973Z",
     "iopub.status.busy": "2021-06-16T19:32:06.460380Z",
     "iopub.status.idle": "2021-06-16T19:32:06.464389Z",
     "shell.execute_reply": "2021-06-16T19:32:06.463959Z"
    },
    "id": "nOjJSm7DKoZA"
   }
  },
  {
   "cell_type": "markdown",
   "source": [
    "## Standardize the data"
   ],
   "metadata": {
    "id": "8GUnmPF4JvEf"
   }
  },
  {
   "cell_type": "markdown",
   "source": [
    "The RGB channel values are in the `[0, 255]` range. This is not ideal for a neural network; in general you should seek to make your input values small. Here, you will standardize values to be in the `[0, 1]` range by using a Rescaling layer."
   ],
   "metadata": {
    "id": "e56VXHMWJxYT"
   }
  },
  {
   "cell_type": "code",
   "execution_count": null,
   "source": [
    "normalization_layer = layers.experimental.preprocessing.Rescaling(1./255)"
   ],
   "outputs": [],
   "metadata": {
    "execution": {
     "iopub.execute_input": "2021-06-16T19:32:06.468403Z",
     "iopub.status.busy": "2021-06-16T19:32:06.467856Z",
     "iopub.status.idle": "2021-06-16T19:32:06.473470Z",
     "shell.execute_reply": "2021-06-16T19:32:06.473070Z"
    },
    "id": "PEYxo2CTJvY9"
   }
  },
  {
   "cell_type": "markdown",
   "source": [
    "Note: The Keras Preprocessing utilities and layers introduced in this section are currently experimental and may change."
   ],
   "metadata": {
    "id": "8aGpkwFaIw4i"
   }
  },
  {
   "cell_type": "markdown",
   "source": [
    "There are two ways to use this layer. You can apply it to the dataset by calling map:"
   ],
   "metadata": {
    "id": "Bl4RmanbJ4g0"
   }
  },
  {
   "cell_type": "code",
   "execution_count": null,
   "source": [
    "normalized_ds = train_ds.map(lambda x, y: (normalization_layer(x), y))\r\n",
    "image_batch, labels_batch = next(iter(normalized_ds))\r\n",
    "first_image = image_batch[0]\r\n",
    "# Notice the pixels values are now in `[0,1]`.\r\n",
    "print(np.min(first_image), np.max(first_image)) "
   ],
   "outputs": [],
   "metadata": {
    "execution": {
     "iopub.execute_input": "2021-06-16T19:32:06.478349Z",
     "iopub.status.busy": "2021-06-16T19:32:06.477806Z",
     "iopub.status.idle": "2021-06-16T19:32:08.048993Z",
     "shell.execute_reply": "2021-06-16T19:32:08.049348Z"
    },
    "id": "X9o9ESaJJ502"
   }
  },
  {
   "cell_type": "markdown",
   "source": [
    "Or, you can include the layer inside your model definition, which can simplify deployment. Let's use the second approach here."
   ],
   "metadata": {
    "id": "XWEOmRSBJ9J8"
   }
  },
  {
   "cell_type": "markdown",
   "source": [
    "Note: you previously resized images using the `image_size` argument of `image_dataset_from_directory`. If you want to include the resizing logic in your model as well, you can use the [Resizing](https://www.tensorflow.org/api_docs/python/tf/keras/layers/experimental/preprocessing/Resizing) layer."
   ],
   "metadata": {
    "id": "XsRk1xCwKZR4"
   }
  },
  {
   "cell_type": "markdown",
   "source": [
    "# Create the model\r\n",
    "\r\n",
    "The model consists of three convolution blocks with a max pool layer in each of them. There's a fully connected layer with 128 units on top of it that is activated by a `relu` activation function. This model has not been tuned for high accuracy, the goal of this tutorial is to show a standard approach. "
   ],
   "metadata": {
    "id": "WcUTyDOPKucd"
   }
  },
  {
   "cell_type": "code",
   "execution_count": null,
   "source": [
    "num_classes = len(class_names)\r\n",
    "print(num_classes)\r\n",
    "\r\n",
    "# model = Sequential([\r\n",
    "#   layers.experimental.preprocessing.Rescaling(1./255, input_shape=(img_height, img_width, 3)),\r\n",
    "#   layers.Conv2D(16, 3, padding='same', activation='relu'),\r\n",
    "#   layers.MaxPooling2D(),\r\n",
    "#   layers.Conv2D(32, 3, padding='same', activation='relu'),\r\n",
    "#   layers.MaxPooling2D(),\r\n",
    "#   layers.Conv2D(64, 3, padding='same', activation='relu'),\r\n",
    "#   layers.MaxPooling2D(),\r\n",
    "#   layers.Flatten(),\r\n",
    "#   layers.Dense(128, activation='relu'),\r\n",
    "#   layers.Dense(num_classes)\r\n",
    "# ])"
   ],
   "outputs": [],
   "metadata": {
    "execution": {
     "iopub.execute_input": "2021-06-16T19:32:08.062866Z",
     "iopub.status.busy": "2021-06-16T19:32:08.062309Z",
     "iopub.status.idle": "2021-06-16T19:32:08.112206Z",
     "shell.execute_reply": "2021-06-16T19:32:08.111682Z"
    },
    "id": "QR6argA1K074"
   }
  },
  {
   "cell_type": "markdown",
   "source": [
    "## Compile the model\n",
    "\n",
    "For this tutorial, choose the `optimizers.Adam` optimizer and `losses.SparseCategoricalCrossentropy` loss function. To view training and validation accuracy for each training epoch, pass the `metrics` argument."
   ],
   "metadata": {
    "id": "EaKFzz72Lqpg"
   }
  },
  {
   "cell_type": "code",
   "execution_count": null,
   "source": [
    "# model.compile(optimizer='adam',\r\n",
    "#               loss=tf.keras.losses.SparseCategoricalCrossentropy(from_logits=True),\r\n",
    "#               metrics=['accuracy'])"
   ],
   "outputs": [],
   "metadata": {
    "execution": {
     "iopub.execute_input": "2021-06-16T19:32:08.118804Z",
     "iopub.status.busy": "2021-06-16T19:32:08.118263Z",
     "iopub.status.idle": "2021-06-16T19:32:08.123491Z",
     "shell.execute_reply": "2021-06-16T19:32:08.123069Z"
    },
    "id": "jloGNS1MLx3A"
   }
  },
  {
   "cell_type": "markdown",
   "source": [
    "## Model summary\n",
    "\n",
    "View all the layers of the network using the model's `summary` method:"
   ],
   "metadata": {
    "id": "aMJ4DnuJL55A"
   }
  },
  {
   "cell_type": "code",
   "execution_count": null,
   "source": [
    "# model.summary()"
   ],
   "outputs": [],
   "metadata": {
    "execution": {
     "iopub.execute_input": "2021-06-16T19:32:08.128483Z",
     "iopub.status.busy": "2021-06-16T19:32:08.127946Z",
     "iopub.status.idle": "2021-06-16T19:32:08.131734Z",
     "shell.execute_reply": "2021-06-16T19:32:08.132087Z"
    },
    "id": "llLYH-BXL7Xe"
   }
  },
  {
   "cell_type": "markdown",
   "source": [
    "## Train the model"
   ],
   "metadata": {
    "id": "NiYHcbvaL9H-"
   }
  },
  {
   "cell_type": "code",
   "execution_count": null,
   "source": [
    "# epochs=10\r\n",
    "# history = model.fit(\r\n",
    "#   train_ds,\r\n",
    "#   validation_data=val_ds,\r\n",
    "#   epochs=epochs\r\n",
    "# )"
   ],
   "outputs": [],
   "metadata": {
    "execution": {
     "iopub.execute_input": "2021-06-16T19:32:08.135910Z",
     "iopub.status.busy": "2021-06-16T19:32:08.135323Z",
     "iopub.status.idle": "2021-06-16T19:32:19.751738Z",
     "shell.execute_reply": "2021-06-16T19:32:19.752092Z"
    },
    "id": "5fWToCqYMErH"
   }
  },
  {
   "cell_type": "markdown",
   "source": [
    "## Visualize training results"
   ],
   "metadata": {
    "id": "SyFKdQpXMJT4"
   }
  },
  {
   "cell_type": "markdown",
   "source": [
    "Create plots of loss and accuracy on the training and validation sets."
   ],
   "metadata": {
    "id": "dFvOvmAmMK9w"
   }
  },
  {
   "cell_type": "code",
   "execution_count": null,
   "source": [
    "# acc = history.history['accuracy']\r\n",
    "# val_acc = history.history['val_accuracy']\r\n",
    "\r\n",
    "# loss = history.history['loss']\r\n",
    "# val_loss = history.history['val_loss']\r\n",
    "\r\n",
    "# epochs_range = range(epochs)\r\n",
    "\r\n",
    "# plt.figure(figsize=(8, 8))\r\n",
    "# plt.subplot(1, 2, 1)\r\n",
    "# plt.plot(epochs_range, acc, label='Training Accuracy')\r\n",
    "# plt.plot(epochs_range, val_acc, label='Validation Accuracy')\r\n",
    "# plt.legend(loc='lower right')\r\n",
    "# plt.title('Training and Validation Accuracy')\r\n",
    "\r\n",
    "# plt.subplot(1, 2, 2)\r\n",
    "# plt.plot(epochs_range, loss, label='Training Loss')\r\n",
    "# plt.plot(epochs_range, val_loss, label='Validation Loss')\r\n",
    "# plt.legend(loc='upper right')\r\n",
    "# plt.title('Training and Validation Loss')\r\n",
    "# plt.show()"
   ],
   "outputs": [],
   "metadata": {
    "execution": {
     "iopub.execute_input": "2021-06-16T19:32:19.774780Z",
     "iopub.status.busy": "2021-06-16T19:32:19.771574Z",
     "iopub.status.idle": "2021-06-16T19:32:19.975893Z",
     "shell.execute_reply": "2021-06-16T19:32:19.975225Z"
    },
    "id": "jWnopEChMMCn"
   }
  },
  {
   "cell_type": "markdown",
   "source": [
    "As you can see from the plots, training accuracy and validation accuracy are off by large margin and the model has achieved only around 60% accuracy on the validation set.\n",
    "\n",
    "Let's look at what went wrong and try to increase the overall performance of the model."
   ],
   "metadata": {
    "id": "hO_jT7HwMrEn"
   }
  },
  {
   "cell_type": "markdown",
   "source": [
    "## Overfitting"
   ],
   "metadata": {
    "id": "hqtyGodAMvNV"
   }
  },
  {
   "cell_type": "markdown",
   "source": [
    "In the plots above, the training accuracy is increasing linearly over time, whereas validation accuracy stalls around 60% in the training process. Also, the difference in accuracy between training and validation accuracy is noticeable—a sign of [overfitting](https://www.tensorflow.org/tutorials/keras/overfit_and_underfit).\r\n",
    "\r\n",
    "When there are a small number of training examples, the model sometimes learns from noises or unwanted details from training examples—to an extent that it negatively impacts the performance of the model on new examples. This phenomenon is known as overfitting. It means that the model will have a difficult time generalizing on a new dataset.\r\n",
    "\r\n",
    "There are multiple ways to fight overfitting in the training process. In this tutorial, you'll use *data augmentation* and add *Dropout* to your model."
   ],
   "metadata": {
    "id": "ixsz9XFfMxcu"
   }
  },
  {
   "cell_type": "markdown",
   "source": [
    "## Data augmentation"
   ],
   "metadata": {
    "id": "BDMfYqwmM1C-"
   }
  },
  {
   "cell_type": "markdown",
   "source": [
    "Overfitting generally occurs when there are a small number of training examples. [Data augmentation](https://www.tensorflow.org/tutorials/images/data_augmentation) takes the approach of generating additional training data from your existing examples by augmenting them using random transformations that yield believable-looking images. This helps expose the model to more aspects of the data and generalize better.\r\n",
    "\r\n",
    "You will implement data augmentation using the layers from `tf.keras.layers.experimental.preprocessing`. These can be included inside your model like other layers, and run on the GPU."
   ],
   "metadata": {
    "id": "GxYwix81M2YO"
   }
  },
  {
   "cell_type": "code",
   "execution_count": null,
   "source": [
    "data_augmentation = keras.Sequential(\r\n",
    "  [\r\n",
    "    layers.experimental.preprocessing.RandomFlip(\"horizontal\", \r\n",
    "                                                 input_shape=(img_height, \r\n",
    "                                                              img_width,\r\n",
    "                                                              3)),\r\n",
    "    layers.experimental.preprocessing.RandomRotation(0.1),\r\n",
    "    layers.experimental.preprocessing.RandomZoom(0.1),\r\n",
    "  ]\r\n",
    ")"
   ],
   "outputs": [],
   "metadata": {
    "execution": {
     "iopub.execute_input": "2021-06-16T19:32:19.982221Z",
     "iopub.status.busy": "2021-06-16T19:32:19.981601Z",
     "iopub.status.idle": "2021-06-16T19:32:20.088707Z",
     "shell.execute_reply": "2021-06-16T19:32:20.089063Z"
    },
    "id": "9J80BAbIMs21"
   }
  },
  {
   "cell_type": "markdown",
   "source": [
    "Let's visualize what a few augmented examples look like by applying data augmentation to the same image several times:"
   ],
   "metadata": {
    "id": "PN4k1dK3S6eV"
   }
  },
  {
   "cell_type": "code",
   "execution_count": null,
   "source": [
    "plt.figure(figsize=(10, 10))\r\n",
    "for images, _ in train_ds.take(1):\r\n",
    "  for i in range(9):\r\n",
    "    augmented_images = data_augmentation(images)\r\n",
    "    ax = plt.subplot(3, 3, i + 1)\r\n",
    "    plt.imshow(augmented_images[0].numpy().astype(\"uint8\"))\r\n",
    "    plt.axis(\"off\")"
   ],
   "outputs": [],
   "metadata": {
    "execution": {
     "iopub.execute_input": "2021-06-16T19:32:20.094585Z",
     "iopub.status.busy": "2021-06-16T19:32:20.094001Z",
     "iopub.status.idle": "2021-06-16T19:32:20.649125Z",
     "shell.execute_reply": "2021-06-16T19:32:20.649505Z"
    },
    "id": "7Z90k539S838"
   }
  },
  {
   "cell_type": "markdown",
   "source": [
    "You will use data augmentation to train a model in a moment."
   ],
   "metadata": {
    "id": "tsjXCBLYYNs5"
   }
  },
  {
   "cell_type": "markdown",
   "source": [
    "## Dropout\n",
    "\n",
    "Another technique to reduce overfitting is to introduce [Dropout](https://developers.google.com/machine-learning/glossary#dropout_regularization) to the network, a form of *regularization*.\n",
    "\n",
    "When you apply Dropout to a layer it randomly drops out (by setting the activation to zero) a number of output units from the layer during the training process. Dropout takes a fractional number as its input value, in the form such as 0.1, 0.2, 0.4, etc. This means dropping out 10%, 20% or 40% of the output units randomly from the applied layer.\n",
    "\n",
    "Let's create a new neural network using `layers.Dropout`, then train it using augmented images."
   ],
   "metadata": {
    "id": "ZeD3bXepYKXs"
   }
  },
  {
   "cell_type": "code",
   "execution_count": null,
   "source": [
    "model = Sequential([\r\n",
    "  data_augmentation,\r\n",
    "  layers.experimental.preprocessing.Rescaling(1./255),\r\n",
    "  layers.Conv2D(16, 3, padding='same', activation='relu'),\r\n",
    "  layers.MaxPooling2D(),\r\n",
    "  layers.Conv2D(32, 3, padding='same', activation='relu'),\r\n",
    "  layers.MaxPooling2D(),\r\n",
    "  layers.Conv2D(64, 3, padding='same', activation='relu'),\r\n",
    "  layers.MaxPooling2D(),\r\n",
    "  layers.Dropout(0.2),\r\n",
    "  layers.Flatten(),\r\n",
    "  layers.Dense(128, activation='relu'),\r\n",
    "  layers.Dense(num_classes)\r\n",
    "])"
   ],
   "outputs": [],
   "metadata": {
    "execution": {
     "iopub.execute_input": "2021-06-16T19:32:20.661411Z",
     "iopub.status.busy": "2021-06-16T19:32:20.660779Z",
     "iopub.status.idle": "2021-06-16T19:32:20.798914Z",
     "shell.execute_reply": "2021-06-16T19:32:20.798478Z"
    },
    "id": "2Zeg8zsqXCsm"
   }
  },
  {
   "cell_type": "markdown",
   "source": [
    "## Compile and train the model"
   ],
   "metadata": {
    "id": "L4nEcuqgZLbi"
   }
  },
  {
   "cell_type": "code",
   "execution_count": null,
   "source": [
    "model.compile(optimizer='adam',\r\n",
    "              loss=tf.keras.losses.SparseCategoricalCrossentropy(from_logits=True),\r\n",
    "              metrics=['accuracy'])"
   ],
   "outputs": [],
   "metadata": {
    "execution": {
     "iopub.execute_input": "2021-06-16T19:32:20.804866Z",
     "iopub.status.busy": "2021-06-16T19:32:20.804298Z",
     "iopub.status.idle": "2021-06-16T19:32:20.807628Z",
     "shell.execute_reply": "2021-06-16T19:32:20.807976Z"
    },
    "id": "EvyAINs9ZOmJ"
   }
  },
  {
   "cell_type": "code",
   "execution_count": null,
   "source": [
    "model.summary()"
   ],
   "outputs": [],
   "metadata": {
    "execution": {
     "iopub.execute_input": "2021-06-16T19:32:20.812402Z",
     "iopub.status.busy": "2021-06-16T19:32:20.811772Z",
     "iopub.status.idle": "2021-06-16T19:32:20.816634Z",
     "shell.execute_reply": "2021-06-16T19:32:20.816236Z"
    },
    "id": "wWLkKoKjZSoC"
   }
  },
  {
   "cell_type": "code",
   "execution_count": null,
   "source": [
    "epochs = 15\r\n",
    "history = model.fit(\r\n",
    "  train_ds,\r\n",
    "  validation_data=val_ds,\r\n",
    "  epochs=epochs\r\n",
    ")"
   ],
   "outputs": [],
   "metadata": {
    "execution": {
     "iopub.execute_input": "2021-06-16T19:32:20.820691Z",
     "iopub.status.busy": "2021-06-16T19:32:20.820028Z",
     "iopub.status.idle": "2021-06-16T19:32:36.648463Z",
     "shell.execute_reply": "2021-06-16T19:32:36.648034Z"
    },
    "id": "LWS-vvNaZDag"
   }
  },
  {
   "cell_type": "markdown",
   "source": [
    "## Visualize training results\n",
    "\n",
    "After applying data augmentation and Dropout, there is less overfitting than before, and training and validation accuracy are closer aligned. "
   ],
   "metadata": {
    "id": "Lkdl8VsBbZOu"
   }
  },
  {
   "cell_type": "code",
   "execution_count": null,
   "source": [
    "acc = history.history['accuracy']\r\n",
    "val_acc = history.history['val_accuracy']\r\n",
    "\r\n",
    "loss = history.history['loss']\r\n",
    "val_loss = history.history['val_loss']\r\n",
    "\r\n",
    "epochs_range = range(epochs)\r\n",
    "\r\n",
    "plt.figure(figsize=(8, 8))\r\n",
    "plt.subplot(1, 2, 1)\r\n",
    "plt.plot(epochs_range, acc, label='Training Accuracy')\r\n",
    "plt.plot(epochs_range, val_acc, label='Validation Accuracy')\r\n",
    "plt.legend(loc='lower right')\r\n",
    "plt.title('Training and Validation Accuracy')\r\n",
    "\r\n",
    "plt.subplot(1, 2, 2)\r\n",
    "plt.plot(epochs_range, loss, label='Training Loss')\r\n",
    "plt.plot(epochs_range, val_loss, label='Validation Loss')\r\n",
    "plt.legend(loc='upper right')\r\n",
    "plt.title('Training and Validation Loss')\r\n",
    "plt.show()"
   ],
   "outputs": [],
   "metadata": {
    "execution": {
     "iopub.execute_input": "2021-06-16T19:32:36.685578Z",
     "iopub.status.busy": "2021-06-16T19:32:36.670192Z",
     "iopub.status.idle": "2021-06-16T19:32:36.865510Z",
     "shell.execute_reply": "2021-06-16T19:32:36.865083Z"
    },
    "id": "dduoLfKsZVIA"
   }
  },
  {
   "cell_type": "code",
   "execution_count": null,
   "source": [
    "#Save Model\r\n",
    "\r\n",
    "model.save('model/model.h5')\r\n"
   ],
   "outputs": [],
   "metadata": {}
  },
  {
   "cell_type": "markdown",
   "source": [
    "## Predict on new data"
   ],
   "metadata": {
    "id": "dtv5VbaVb-3W"
   }
  },
  {
   "cell_type": "markdown",
   "source": [
    "Finally, let's use our model to classify an image that wasn't included in the training or validation sets."
   ],
   "metadata": {
    "id": "10buWpJbcCQz"
   }
  },
  {
   "cell_type": "markdown",
   "source": [
    "Note: Data augmentation and Dropout layers are inactive at inference time."
   ],
   "metadata": {
    "id": "NKgMZ4bDcHf7"
   }
  },
  {
   "cell_type": "code",
   "execution_count": null,
   "source": [
    "import os, random\r\n",
    "\r\n",
    "test_dir = pathlib.Path(\"D:/chickenAI\")\r\n",
    "\r\n",
    "randomImage = random.choice(list(test_dir.glob(\"*.jpg\")))\r\n",
    "print(randomImage)\r\n",
    "\r\n",
    "\r\n",
    "img = keras.preprocessing.image.load_img(\r\n",
    "    randomImage, target_size=(img_height, img_width)\r\n",
    ")\r\n",
    "img_array = keras.preprocessing.image.img_to_array(img)\r\n",
    "img_array = tf.expand_dims(img_array, 0) # Create a batch\r\n",
    "\r\n",
    "predictions = model.predict(img_array)\r\n",
    "score = tf.nn.softmax(predictions[0])\r\n",
    "\r\n",
    "print(\r\n",
    "    \"This image most likely belongs to {} with a {:.2f} percent confidence.\"\r\n",
    "    .format(class_names[np.argmax(score)], 100 * np.max(score))\r\n",
    ")\r\n",
    "\r\n",
    "PIL.Image.open(randomImage)\r\n"
   ],
   "outputs": [],
   "metadata": {
    "execution": {
     "iopub.execute_input": "2021-06-16T19:32:36.872224Z",
     "iopub.status.busy": "2021-06-16T19:32:36.871628Z",
     "iopub.status.idle": "2021-06-16T19:32:37.188776Z",
     "shell.execute_reply": "2021-06-16T19:32:37.189152Z"
    },
    "id": "dC40sRITBSsQ"
   }
  },
  {
   "cell_type": "code",
   "execution_count": null,
   "source": [
    "import os, random, shutil\r\n",
    "from tqdm import tqdm\r\n",
    "\r\n",
    "test_dir = pathlib.Path(\"D:/chickenAI\")\r\n",
    "imageFiles = test_dir.glob(\"*.jpg\")\r\n",
    "\r\n",
    "dest_dir = \"D:/chickenAI/dataset4/\"\r\n",
    "\r\n",
    "for imgFile in tqdm(imageFiles):\r\n",
    "# for imgFile in imageFiles:\r\n",
    "    head, tail = os.path.split(imgFile)\r\n",
    "\r\n",
    "    img = keras.preprocessing.image.load_img(\r\n",
    "        imgFile, target_size=(img_height, img_width)\r\n",
    "    )\r\n",
    "    img_array = keras.preprocessing.image.img_to_array(img)\r\n",
    "    img_array = tf.expand_dims(img_array, 0) # Create a batch\r\n",
    "\r\n",
    "    predictions = model.predict(img_array)\r\n",
    "    score = tf.nn.softmax(predictions[0])\r\n",
    "\r\n",
    "    subFolder = class_names[np.argmax(score)]\r\n",
    "    targetFolder = dest_dir + subFolder\r\n",
    "    # print( f\"{targetFolder} with a {100 * np.max(score)} percent confidence.\")\r\n",
    "\r\n",
    "    shutil.copy(imgFile, targetFolder)\r\n",
    "\r\n",
    "    # PIL.Image.open(randomImage)\r\n"
   ],
   "outputs": [],
   "metadata": {
    "execution": {
     "iopub.execute_input": "2021-06-16T19:32:36.872224Z",
     "iopub.status.busy": "2021-06-16T19:32:36.871628Z",
     "iopub.status.idle": "2021-06-16T19:32:37.188776Z",
     "shell.execute_reply": "2021-06-16T19:32:37.189152Z"
    },
    "id": "dC40sRITBSsQ"
   }
  }
 ],
 "metadata": {
  "accelerator": "GPU",
  "colab": {
   "collapsed_sections": [],
   "name": "classification.ipynb",
   "toc_visible": true
  },
  "kernelspec": {
   "name": "python3",
   "display_name": "Python 3.9.5 64-bit ('chicken5': conda)"
  },
  "language_info": {
   "name": "python",
   "version": "3.9.5",
   "mimetype": "text/x-python",
   "codemirror_mode": {
    "name": "ipython",
    "version": 3
   },
   "pygments_lexer": "ipython3",
   "nbconvert_exporter": "python",
   "file_extension": ".py"
  },
  "interpreter": {
   "hash": "a906bae7af797a88692bb51d1c7aead8af714cdfcd942ba121a6dc0dc46a8739"
  }
 },
 "nbformat": 4,
 "nbformat_minor": 2
}